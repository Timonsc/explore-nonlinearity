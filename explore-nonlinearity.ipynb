{
  "cells": [
    {
      "cell_type": "markdown",
      "source": [
        "**Machine Learning Basic Principles 2018 - Data Analysis Project Report**"
      ],
      "metadata": {}
    },
    {
      "cell_type": "markdown",
      "source": [
        "# *Exploring the possibilities of music genre classification using MLP* "
      ],
      "metadata": {}
    },
    {
      "cell_type": "markdown",
      "source": [
        "Notes: \n",
        "\n",
        "1) To run this code install keras, sklearn, pandas, numpy, tensorflow, imbalanced-learn and matplotlib\n",
        "- pip install -U imbalanced-learn\n",
        "- pip install keras\n",
        "- pip install tensorflow\n",
        "\n",
        "2) Run this code only from top to bottom. If you run the code in a different order you have to run it all again from top to bottom.\n"
      ],
      "metadata": {}
    },
    {
      "cell_type": "markdown",
      "source": [
        "## Abstract"
      ],
      "metadata": {}
    },
    {
      "cell_type": "markdown",
      "source": [
        "In this project I will explore the possibilities to make a MLP classifier that predicts the genre of songs. With different preprocessing techniques and parameters of the MLP I am going to find out if the MLP net can do better than logistic regression. By that we would find if there are nonlinear relations that can be used in the classification. The data used is several preprocessed statistics from several rythm, chroma and mfcc bands. Ultimately I concluded that the data did not contain significant non-linear relations and a model like binomial regression suffices for this particular dataset.\n",
        "\n"
      ],
      "metadata": {}
    },
    {
      "cell_type": "markdown",
      "source": [
        "## 1. Introduction"
      ],
      "metadata": {}
    },
    {
      "cell_type": "markdown",
      "source": [
        "\n",
        "Rythm, chroma and mfcc statistics are a common technique to gather data about songs. These can be used to try and predict data about the songs.\n",
        "\n",
        "Problem statement: Can a MLP network find non-linear relations in rythm, chroma and mfcc band statistics to improve prediction of songs' genre?\n",
        "\n",
        "Motivation: If we can predict songs' genres, music services can suggest new songs that do not have any popularity data to users.\n",
        "\n"
      ],
      "metadata": {}
    },
    {
      "cell_type": "markdown",
      "source": [
        "## 2. Data analysis"
      ],
      "metadata": {}
    },
    {
      "cell_type": "markdown",
      "source": [
        "The dimensionality of the data set is quite high. After setting up the first MLP the first task is to find if PCA feature selection can improve the first setup. Because if we can decrease the amount of features we can decrease the amount of nodes, and therefore train better with the small amount of objects. I tried many different ratios responsibility for the total variance and hoped to find results that were better than using all features. This was not the case, we had to keep all the features to get the best results.\n",
        "\n",
        "The training set was not randomly ordered, many objects from the first class came first in the data set. This does not work well with MLP as it will overfit to that class. We have to shuffle the data set.\n",
        "\n",
        "The dataset has features with different scales. A MLP will benefit heavily form standardizing the complete dataset. I tried normalizing as well but it had no effect.\n",
        "\n\n"
      ],
      "metadata": {}
    },
    {
      "cell_type": "code",
      "source": [
        "# Import libraries\n",
        "import pandas as pd\n",
        "from IPython.display import HTML, display\n",
        "import numpy as np\n",
        "import keras\n",
        "from sklearn.preprocessing import StandardScaler, Normalizer\n",
        "from sklearn.decomposition import PCA\n",
        "from keras.models import Sequential, load_model\n",
        "from keras import layers\n",
        "from keras import regularizers\n",
        "from keras.layers import Dense, Conv2D, MaxPooling2D, ZeroPadding2D, GlobalAveragePooling2D\n",
        "from keras.layers.normalization import BatchNormalization\n",
        "from keras.optimizers import SGD\n",
        "from keras.callbacks import History\n",
        "from keras.utils import plot_model\n",
        "import matplotlib.pyplot as plt\n",
        "from imblearn.over_sampling import SMOTE, ADASYN, BorderlineSMOTE\n",
        "from collections import Counter\n",
        "from sklearn.metrics import confusion_matrix\n",
        "from sklearn.model_selection import StratifiedKFold\n",
        "\n",
        "#...\n"
      ],
      "outputs": [],
      "execution_count": 99,
      "metadata": {
        "collapsed": true
      }
    },
    {
      "cell_type": "code",
      "source": [
        "rawdata = pd.read_csv('..\\\\all\\\\train_data.csv', header=None)\n",
        "test = pd.read_csv( '..\\\\all\\\\test_data.csv', header=None)\n",
        "rawlabels = pd.read_csv('..\\\\all\\\\train_labels.csv', header=None)\n",
        "num_samples = rawdata.shape[0]\n",
        "train = int(0.8*num_samples)"
      ],
      "outputs": [],
      "execution_count": 43,
      "metadata": {
        "collapsed": false,
        "outputHidden": false,
        "inputHidden": false
      }
    },
    {
      "cell_type": "code",
      "source": [
        "# Functions that load the data, preprocess the data, and save results of the ML algorithms. \n",
        "\n",
        "def load_data():\n",
        "    \n",
        "    data,labels = shuffle_training_data(rawdata,rawlabels)\n",
        "\n",
        "    #datatrain, datatest, labelstest, labelstrain = split_into_train_and_test(data,labels)\n",
        "    labels = np.ravel(labels)\n",
        "    data = standardize(data)\n",
        "    data,labels = smote(data,labels)\n",
        "    \n",
        "    #print(data.shape)\n",
        "    #np.ravel(labels)\n",
        "    features,pca_data = get_pca_features_data(data,fractions[0]) # tried to find out if the neural network would perform better with pca features only\n",
        "    return data, labels\n",
        "\n",
        "def shuffle_training_data (data,labels):\n",
        "    data = np.matrix(data)\n",
        "    y = np.ravel(labels)\n",
        "    datalabel = np.zeros((data.shape[0], data.shape[1]+1))\n",
        "    datalabel[:, :-1] = data\n",
        "    datalabel[:, -1] = y\n",
        "    np.random.shuffle(datalabel)\n",
        "    data = datalabel[:, :-1]\n",
        "    #print(\"Data Shape:\",data.shape)\n",
        "    label = np.transpose(np.matrix(datalabel[:, -1]))\n",
        "    #print(\"Label Shape:\",label.shape)\n",
        "    return data,label\n",
        "\n",
        "def standardize(data):\n",
        "    scaler = StandardScaler(copy=True, with_mean=True, with_std=True).fit(data)\n",
        "    return scaler.transform(data) #, scaler.transform(datatest)\n",
        "\n",
        "def normalize(datatrain, datatest):\n",
        "    scaler = Normalizer().fit(datatrain)\n",
        "    return scaler.transform(datatrain), scaler.transform(datatest)\n",
        "\n",
        "def split_into_train_and_test(data,labels):\n",
        "    labels = labels - 1\n",
        "    labels = keras.utils.to_categorical(labels, num_classes=10)\n",
        "    #print(labels.shape)\n",
        "    #print(\"labels\",labels)\n",
        "    labelstest = labels[train:num_samples]\n",
        "    labelstrain = labels[0:train]\n",
        "    datatest = data[train:num_samples]\n",
        "    datatrain = data[0:train]\n",
        "    #datatrain, datatest = normalize(datatrain, datatest)\n",
        "    return datatrain,datatest,labelstest,labelstrain\n",
        "\n",
        "def smote(X,y):\n",
        "    X_resampled, y_resampled = BorderlineSMOTE().fit_resample(X, y)\n",
        "    #print(sorted(Counter(y_resampled).items()))\n",
        "    #print(y_resampled.shape)\n",
        "    y_resampled = np.transpose(np.matrix(y_resampled))\n",
        "    return X_resampled,y_resampled\n",
        "\n",
        "def pca(data,fraction_of_variance):\n",
        "    try:\n",
        "        eigvalues = np.load('eigvalues.npy')\n",
        "        eigvectors = np.load('eigvectors.npy')\n",
        "        print(\"Matices loaded.\")\n",
        "    except:\n",
        "        centered_data = data - np.mean(data, axis=0)\n",
        "        cov_mat = np.cov(centered_data, rowvar=False)\n",
        "        eigvalues, eigvectors = np.linalg.eig(cov_mat)\n",
        "        np.save('eigvalues.npy', eigvalues)\n",
        "        np.save('eigvectors.npy', eigvectors)\n",
        " \n",
        "    eigvalues = eigvalues.real\n",
        "    #print(eigvalues)\n",
        "    eigsortedindices = eigvalues.argsort()[::-1]\n",
        "   \n",
        "    sum_added_eigvalues,fraction = 0,0\n",
        "\n",
        "    features = []\n",
        "    eigvalues = eigvalues.real.tolist()\n",
        "    eigvallist = enumerate(eigvalues)\n",
        "    \n",
        "    total_variability = sum(eigvalues)\n",
        "    #print(total_variability)\n",
        "    #sortedeigvallist = sortedeigvalues.tolist()\n",
        "    sorted_enum_eigvallist = sorted(eigvallist, key=lambda x:x[1])[::-1]\n",
        "    #print(sorted_enum_eigvallist)\n",
        "    for index,value in sorted_enum_eigvallist:\n",
        "        #print(value,total_variability)\n",
        "        if(fraction < fraction_of_variance):\n",
        "            features.append(index)\n",
        "            sum_added_eigvalues = sum_added_eigvalues + value\n",
        "            fraction = sum_added_eigvalues / total_variability\n",
        "        else:\n",
        "            #print(fraction)\n",
        "            break    \n",
        "    #print(\"The following features explain\",str(100*fraction) + \"% of the variance\",features)\n",
        "    return features, eigvalues\n",
        "\n",
        "def plot_error(eigvalues,max_d):\n",
        "    x=range(1,max_d+1)\n",
        "    errors=[sum(eigvalues[d:]) for d in x]\n",
        "    plt.plot(x,errors)\n",
        "    plt.xlabel('Number of principal components $d$')\n",
        "    plt.ylabel('Reconstruction error $\\mathcal{E}$')\n",
        "    plt.title('Number of principal components vs the reconstruction error')\n",
        "    plt.show()\n",
        "    \n",
        "def get_pca_features_data(data,fraction):\n",
        "    column_features,eigvalues = pca(data,fraction)\n",
        "    pca_features_data = np.zeros((data.shape[0],len(column_features)))\n",
        "    i = 0 \n",
        "    for feature in column_features:\n",
        "        pca_features_data[:,i] = data[:,feature]\n",
        "        i=i+1\n",
        "    #print(\"These are the features that explain\",str(100*fraction) + \"% of the variance according to the principal component analysis:\")\n",
        "    #print(\"Columns from original data:\",column_features)\n",
        "    #print(pca_features_data)\n",
        "    return column_features,pca_features_data\n",
        "\n",
        "def save_result_in_txtfile(score,input_nodes,hidden_nodes):\n",
        "    report = 'Score: '+str(score)+'. Input nodes: '+str(input_nodes)+'. Hidden Nodes: '+str(hidden_nodes)+'. Optimizer: sgd.'\n",
        "    fh = open(\"results_test_different_hidden_nodes.txt\",\"a\")\n",
        "    fh.write(report)\n",
        "    fh.write(\"\\n\")\n",
        "    fh.close()\n",
        "    \n"
      ],
      "outputs": [],
      "execution_count": 44,
      "metadata": {
        "collapsed": true
      }
    },
    {
      "cell_type": "markdown",
      "source": [
        "The fractions were a list of fractions of the variance for calculating the most inportant features responsible for the total variance. It did not help for the predictions so this functionality doesn't work anymore. "
      ],
      "metadata": {}
    },
    {
      "cell_type": "code",
      "source": [
        "fractions = [1] #0.981,0.982,0.983,0.984,0.985,0.986,0.987,0.988,0.989,0.99,0.991,0.992,0.993,0.994,0.995,0.996,0.997,0.998,0.999,"
      ],
      "outputs": [],
      "execution_count": 45,
      "metadata": {
        "collapsed": false,
        "outputHidden": false,
        "inputHidden": false
      }
    },
    {
      "cell_type": "code",
      "source": [
        "data, labels = load_data()\n",
        "\n",
        "datatrain = standardize(data)\n",
        "\nfeatures,pca_data = get_pca_features_data(datatrain,fractions[0]) # tried to find out if the neural network would perform better with pca features only"
      ],
      "outputs": [
        {
          "output_type": "stream",
          "name": "stdout",
          "text": [
            "Matices loaded.\n",
            "Matices loaded.\n"
          ]
        }
      ],
      "execution_count": 46,
      "metadata": {
        "collapsed": false,
        "outputHidden": false,
        "inputHidden": false
      }
    },
    {
      "cell_type": "code",
      "source": [
        "#Analysis of the input data\n",
        "means = []\n",
        "\n",
        "for i in range(rawdata.shape[1]):\n",
        "    #print(i)\n",
        "    #print(rawdata[i].describe())\n",
        "    means.append(rawdata[i].mean())\n",
        "\n",
        "means_rythm = means[0:168]\n",
        "means_chroma = means[169:216]\n",
        "means_mfcc = means[216:]\n",
        "\n",
        "print(\"Means of all features:\")\n",
        "plt.figure()\n",
        "plt.hold = True\n",
        "boxes=[]  \n",
        "boxes.append(means)\n",
        "plt.boxplot(boxes,vert=1)\n",
        "plt.show()\n",
        "\n",
        "print(\"Boxplot of means of all rythm features:\")\n",
        "plt.figure()\n",
        "plt.hold = True\n",
        "boxes=[]  \n",
        "boxes.append(means_rythm)\n",
        "plt.boxplot(boxes,vert=1)\n",
        "plt.show()\n",
        "\n",
        "print(\"Boxplot of means of all chroma features:\")\n",
        "plt.figure()\n",
        "plt.hold = True\n",
        "boxes=[]  \n",
        "boxes.append(means_chroma)\n",
        "plt.boxplot(boxes,vert=1)\n",
        "plt.show()\n",
        "\n",
        "print(\"Boxplot of means of all mfcc features:\")\n",
        "plt.figure()\n",
        "plt.hold = True\n",
        "boxes=[]  \n",
        "boxes.append(means_mfcc)\n",
        "plt.boxplot(boxes,vert=1)\n",
        "plt.show()\n",
        "\n",
        "print(\"Boxplots of means of all features compared:\")\n",
        "plt.figure()\n",
        "plt.hold = True\n",
        "boxes=[]  \n",
        "boxes.append(means_rythm)\n",
        "boxes.append(means_chroma)\n",
        "boxes.append(means_mfcc)\n",
        "plt.boxplot(boxes,vert=1)\n",
        "plt.show()\n"
      ],
      "outputs": [
        {
          "output_type": "stream",
          "name": "stdout",
          "text": [
            "Means of all features:\n"
          ]
        },
        {
          "output_type": "display_data",
          "data": {
            "text/plain": [
              "<Figure size 432x288 with 1 Axes>"
            ],
            "image/png": "[encoded data removed]"
          },
          "metadata": {
            "needs_background": "light"
          }
        },
        {
          "output_type": "stream",
          "name": "stdout",
          "text": [
            "Boxplot of means of all rythm features:\n"
          ]
        },
        {
          "output_type": "display_data",
          "data": {
            "text/plain": [
              "<Figure size 432x288 with 1 Axes>"
            ],
            "image/png": "[encoded data removed]"
          },
          "metadata": {
            "needs_background": "light"
          }
        },
        {
          "output_type": "stream",
          "name": "stdout",
          "text": [
            "Boxplot of means of all chroma features:\n"
          ]
        },
        {
          "output_type": "display_data",
          "data": {
            "text/plain": [
              "<Figure size 432x288 with 1 Axes>"
            ],
            "image/png": "[encoded data removed]"
          },
          "metadata": {
            "needs_background": "light"
          }
        },
        {
          "output_type": "stream",
          "name": "stdout",
          "text": [
            "Boxplot of means of all mfcc features:\n"
          ]
        },
        {
          "output_type": "display_data",
          "data": {
            "text/plain": [
              "<Figure size 432x288 with 1 Axes>"
            ],
            "image/png": "[encoded data removed]"
          },
          "metadata": {
            "needs_background": "light"
          }
        },
        {
          "output_type": "stream",
          "name": "stdout",
          "text": [
            "Boxplots of means of all features compared:\n"
          ]
        },
        {
          "output_type": "display_data",
          "data": {
            "text/plain": [
              "<Figure size 432x288 with 1 Axes>"
            ],
            "image/png": "[encoded data removed]"
          },
          "metadata": {
            "needs_background": "light"
          }
        }
      ],
      "execution_count": 47,
      "metadata": {
        "collapsed": true
      }
    },
    {
      "cell_type": "markdown",
      "source": [
        "As you can see the variables differ quite a lot. Standardization will help the MLP to perform better."
      ],
      "metadata": {}
    },
    {
      "cell_type": "code",
      "source": [
        "\n",
        "print(means_mfcc[0])\n",
        "print(means_mfcc[1])\n",
        "print(means_mfcc[2])\n",
        "print(means_mfcc[3])"
      ],
      "outputs": [
        {
          "output_type": "stream",
          "name": "stdout",
          "text": [
            "1000000.0\n",
            "1000000.0\n",
            "1000000.0\n",
            "1000000.0\n"
          ]
        }
      ],
      "execution_count": 48,
      "metadata": {
        "collapsed": false,
        "outputHidden": false,
        "inputHidden": false
      }
    },
    {
      "cell_type": "markdown",
      "source": [
        "In the plots we can see that there is one or more features that do not make sense and should be removed. I print all the feature.describe() to find it (uncomment if you wanna see it). "
      ],
      "metadata": {}
    },
    {
      "cell_type": "markdown",
      "source": [
        "The features in the columns 216, 217, 218 and 219 seem to be useless. I will remove them. "
      ],
      "metadata": {}
    },
    {
      "cell_type": "code",
      "source": [
        "# remove the columns from the data set\n",
        "rawdata.__delitem__(216)\n",
        "rawdata.__delitem__(217)\n",
        "rawdata.__delitem__(218)\n",
        "rawdata.__delitem__(219)\n",
        "\n",
        "test.__delitem__(216)\n",
        "test.__delitem__(217)\n",
        "test.__delitem__(218)\n",
        "test.__delitem__(219)\n",
        "\n",
        "# remove the means from the \n",
        "#means_rythm.pop()\n",
        "means_mfcc = means_mfcc[4:]\n"
      ],
      "outputs": [],
      "execution_count": 49,
      "metadata": {
        "collapsed": false,
        "outputHidden": false,
        "inputHidden": false
      }
    },
    {
      "cell_type": "code",
      "source": [
        "print(means_mfcc[1])"
      ],
      "outputs": [
        {
          "output_type": "stream",
          "name": "stdout",
          "text": [
            "-0.010254128997043319\n"
          ]
        }
      ],
      "execution_count": 50,
      "metadata": {
        "collapsed": false,
        "outputHidden": false,
        "inputHidden": false
      }
    },
    {
      "cell_type": "code",
      "source": [
        "print(\"Boxplot of means of all mfcc features:\")\n",
        "plt.figure()\n",
        "plt.hold = True\n",
        "boxes=[]  \n",
        "boxes.append(means_mfcc)\n",
        "plt.boxplot(boxes,vert=1)\n",
        "plt.show()\n"
      ],
      "outputs": [
        {
          "output_type": "stream",
          "name": "stdout",
          "text": [
            "Boxplot of means of all mfcc features:\n"
          ]
        },
        {
          "output_type": "display_data",
          "data": {
            "text/plain": [
              "<Figure size 432x288 with 1 Axes>"
            ],
            "image/png": "[encoded data removed]"
          },
          "metadata": {
            "needs_background": "light"
          }
        }
      ],
      "execution_count": 97,
      "metadata": {
        "collapsed": false,
        "outputHidden": false,
        "inputHidden": false
      }
    },
    {
      "cell_type": "code",
      "source": [
        "label_list = np.ravel(rawlabels)\n",
        "plt.hist(label_list, bins=[1, 2, 3,4,5,6,7,8,9,10])\n",
        "plt.show()"
      ],
      "outputs": [
        {
          "output_type": "display_data",
          "data": {
            "text/plain": [
              "<Figure size 432x288 with 1 Axes>"
            ],
            "image/png": "[encoded data removed]"
          },
          "metadata": {
            "needs_background": "light"
          }
        }
      ],
      "execution_count": 52,
      "metadata": {
        "collapsed": false,
        "outputHidden": false,
        "inputHidden": false
      }
    },
    {
      "cell_type": "markdown",
      "source": [
        "To find out if the training set is unbalanced I plotted the labels. The labes are heavily unbalanced and MLP's will need some adaptation to the model or data to prevent overfitting to the biggest classes. Either changing the weight updats according to the size of the class or some change to the trainingset. I chose for oversampling with the BorderlineSMOTE as it gave the best results. BorderlineSMOTE generates new objects for the unrepresented classes in a way that they won't interfere with the other classes."
      ],
      "metadata": {}
    },
    {
      "cell_type": "markdown",
      "source": [
        "## 3. Methods and experiments"
      ],
      "metadata": {}
    },
    {
      "cell_type": "markdown",
      "source": [
        "*- Explain your whole approach (you can include a block diagram showing the steps in your process).* \n",
        "\n",
        "*- What methods/algorithms, why were the methods chosen. *\n",
        "\n",
        "*- What evaluation methodology (cross CV, etc.).*\n",
        "\n",
        "- My basic approach was to train many models with the use of loops. By using loops in loops I was able to try many different combinations with different parameters under which: # of hidden nodes, # hidden layers, different amount of best features selected by the pca algorithm, optimizers, amount of dropout nodes, learning rate.\n",
        "- The MLP without hidden layer functions exactly the same as a logistic regression model. My interest was in adding a hidden layer to see if the MLP network finds non linear relations.\n",
        "- A problem with MLP nets is that it is relatively prone to overfitting. To solve this problem i had to use the dropout methodology where ever forward propagation the model only will use a part of the nodes of the complete network. Forces the network to look for multiple ways to predict its class. \n",
        "- I trained with many different optimizers. Though stochastic gradiend descent performed the best. Especially with a decay dictated by the number of the epoch it is training in a good rate was ensured.\n",
        "- With a high momentum I was ensured to not find a local minimum."
      ],
      "metadata": {}
    },
    {
      "cell_type": "code",
      "source": [
        "# Multi layer perceptron\n",
        "\n",
        "def create_model(lr, input_nodes, hidden_nodes):\n",
        "    model = Sequential()\n",
        "    model.add(layers.Dropout(0.2, input_shape=(input_nodes,)))\n",
        "    model.add(Dense(hidden_nodes, activation='sigmoid'))    # *** You can remove these lines to see how the logistic regressino performs\n",
        "    model.add(layers.Dropout(0.5))                          # ***\n",
        "    model.add(Dense(10, activation='softmax'))\n",
        "    sgd = keras.optimizers.SGD(lr=lr, decay=lr/epochs, momentum=0.8, nesterov=True)\n",
        "    model.compile(optimizer=sgd, loss='categorical_crossentropy', metrics=['accuracy'])\n",
        "    return model\n",
        "\n",
        "def train_and_evaluate_model(model, datatrain, labelstrain, datatest, labelstest, epochs, i):\n",
        "    #print(model.summary())\n",
        "    history = History()\n",
        "    history = model.fit(datatrain, labelstrain, epochs=epochs, validation_split=0.33,batch_size=28, callbacks=[history],verbose=0)\n",
        "    score = model.evaluate(datatest, labelstest)\n",
        "    scores.append([i,[score[0],score[1]]])\n",
        "    model.save('model_'+str(i)+'.h5')\n",
        "    #loss = history.history['loss']\n",
        "    save_result_in_txtfile(score,input_nodes,hidden_nodes)\n",
        "    #plot_hist(history)\n",
        "    print(\"This model has a loss of\",score[0],\"and a accuracy of\",score[1])\n",
        "    \n",
        "    return score,scores\n",
        "\n",
        "def plot_hist(hist):\n",
        "    # Get training and test loss histories\n",
        "    training_loss = hist.history['loss']\n",
        "    test_loss = hist.history['val_loss']\n",
        "\n",
        "    # Create count of the number of epochs\n",
        "    epoch_count = range(1, len(training_loss) + 1)\n",
        "\n",
        "    # Visualize loss history\n",
        "    plt.plot(epoch_count, training_loss, 'r--')\n",
        "    plt.plot(epoch_count, test_loss, 'b-')\n",
        "    plt.legend(['Training Loss', 'Test Loss'])\n",
        "    plt.xlabel('Epoch')\n",
        "    plt.ylabel('Loss')\n",
        "    plt.show();"
      ],
      "outputs": [],
      "execution_count": 93,
      "metadata": {
        "collapsed": true
      }
    },
    {
      "cell_type": "markdown",
      "source": [
        "*The parameters below, except input_nodes, can be changed for training. The current setting performed very good.*\n",
        "*If you want to compare it to the logistic regression model you can remove the hidden layer lines in the model denoted by # ***"
      ],
      "metadata": {}
    },
    {
      "cell_type": "code",
      "source": [
        "# MLP parameters\n",
        "lr=0.1\n",
        "epochs = 60\n",
        "input_nodes = rawdata.shape[1]\n",
        "print(input_nodes)\n",
        "hidden_nodes = 260\n",
        "scores = []\n"
      ],
      "outputs": [
        {
          "output_type": "stream",
          "name": "stdout",
          "text": [
            "260\n"
          ]
        }
      ],
      "execution_count": 94,
      "metadata": {
        "collapsed": false,
        "outputHidden": false,
        "inputHidden": false
      }
    },
    {
      "cell_type": "markdown",
      "source": [
        "*I used K-fold validation to make make sure that the comparison of the models are fair. Sometimes the a model can perform better if it is trained with a training set that happens to work out well for the testing. With k-fold you can prevent that.*"
      ],
      "metadata": {}
    },
    {
      "cell_type": "code",
      "source": [
        "def k_fold_model_creation_and_training(k):\n",
        "    n_folds = k\n",
        "    data, labels = load_data()\n",
        "    skf = StratifiedKFold(n_folds,True)\n",
        "    i = 1\n",
        "    for train, test in skf.split(data, labels):\n",
        "        print(\"Running Fold \"+str(i)+\"/\"+str(n_folds))\n",
        "        datatrain, datatest = data[train], data[test]\n",
        "        labelstrain, labelstest = labels[train], labels[test]\n",
        "        labelstrain, labelstest = labelstrain - 1, labelstest - 1\n",
        "        labelstrain,labelstest = keras.utils.to_categorical(labelstrain, num_classes=10),keras.utils.to_categorical(labelstest, num_classes=10)\n",
        "        model = None # Clearing the NN.\n",
        "        scores = None\n",
        "        model = create_model(lr,input_nodes,hidden_nodes)\n",
        "        score, scores = train_and_evaluate_model(model, datatrain, labelstrain, datatest, labelstest, epochs, i)\n",
        "        i = i + 1\n",
        "    print(scores)"
      ],
      "outputs": [],
      "execution_count": 95,
      "metadata": {
        "collapsed": false,
        "outputHidden": false,
        "inputHidden": false
      }
    },
    {
      "cell_type": "code",
      "source": [],
      "outputs": [
        {
          "output_type": "stream",
          "name": "stderr",
          "text": [
            "C:\\Miniconda3\\lib\\site-packages\\sklearn\\utils\\validation.py:752: DataConversionWarning: A column-vector y was passed when a 1d array was expected. Please change the shape of y to (n_samples, ), for example using ravel().\n",
            "  y = column_or_1d(y, warn=True)\n",
            "C:\\Miniconda3\\lib\\site-packages\\sklearn\\linear_model\\logistic.py:757: ConvergenceWarning: lbfgs failed to converge. Increase the number of iterations.\n",
            "  \"of iterations.\", ConvergenceWarning)\n"
          ]
        },
        {
          "output_type": "execute_result",
          "execution_count": 102,
          "data": {
            "text/plain": [
              "0.9149678604224059"
            ]
          },
          "metadata": {}
        }
      ],
      "execution_count": 102,
      "metadata": {
        "collapsed": false,
        "outputHidden": false,
        "inputHidden": false
      }
    },
    {
      "cell_type": "code",
      "source": [
        "# execute training and testing\n",
        "k_fold_model_creation_and_training(5)"
      ],
      "outputs": [
        {
          "output_type": "stream",
          "name": "stdout",
          "text": [
            "Matices loaded.\n",
            "Running Fold 1/5\n",
            "4360/4360 [==============================] - 0s 18us/step\b\b\b\b\b\b\b\b\b\b\b\b\b\b\b\b\b\b\b\b\b\b\b\b\b\b\b\b\b\b\b\b\b\b\b\b\b\b\b\b\b\b\b\b\b\b\b\n",
            "This model has a loss of 1.107732417605339 and a accuracy of 0.6405963302752293\n",
            "Running Fold 2/5\n",
            "4360/4360 [==============================] - 0s 18us/step\b\b\b\b\b\b\b\b\b\b\b\b\b\b\b\b\b\b\b\b\b\b\b\b\b\b\b\b\b\b\b\b\b\b\b\b\b\b\b\b\b\b\b\b\b\b\b\n",
            "This model has a loss of 1.0955942489685269 and a accuracy of 0.6302752293577981\n",
            "Running Fold 3/5\n",
            "4360/4360 [==============================] - 0s 18us/step\b\b\b\b\b\b\b\b\b\b\b\b\b\b\b\b\b\b\b\b\b\b\b\b\b\b\b\b\b\b\b\b\b\b\b\b\b\b\b\b\b\b\b\b\b\b\b\n",
            "This model has a loss of 1.0975481313302977 and a accuracy of 0.6410550458715596\n",
            "Running Fold 4/5\n",
            "4350/4350 [==============================] - 0s 22us/step\b\b\b\b\b\b\b\b\b\b\b\b\b\b\b\b\b\b\b\b\b\b\b\b\b\b\b\b\b\b\b\b\b\b\b\b\b\b\b\b\b\b\b\b\b\b\b\n",
            "This model has a loss of 1.1385156438542507 and a accuracy of 0.6377011494732451\n",
            "Running Fold 5/5\n",
            "4350/4350 [==============================] - 0s 28us/step\b\b\b\b\b\b\b\b\b\b\b\b\b\b\b\b\b\b\b\b\b\b\b\b\b\b\b\b\b\b\b\b\b\b\b\b\b\b\b\b\b\b\b\b\b\b\b\n",
            "This model has a loss of 1.1199646554048035 and a accuracy of 0.6418390805077279\n",
            "[[1, [1.107732417605339, 0.6405963302752293]], [2, [1.0955942489685269, 0.6302752293577981]], [3, [1.0975481313302977, 0.6410550458715596]], [4, [1.1385156438542507, 0.6377011494732451]], [5, [1.1199646554048035, 0.6418390805077279]]]\n"
          ]
        }
      ],
      "execution_count": 96,
      "metadata": {
        "collapsed": false,
        "outputHidden": false,
        "inputHidden": false
      }
    },
    {
      "cell_type": "code",
      "source": [
        "# !! only used to output the csv files for the kaggle challenges. !!\n",
        "\n",
        "np.set_printoptions(threshold=10)\n",
        "model = load_model('model_5.h5')\n",
        "#print(datatrain.shape,test.shape)\n",
        "testdata = standardize(test)\n",
        "output = model.predict(testdata, batch_size=None, verbose=1, steps=None)\n",
        "sgd = keras.optimizers.SGD(lr=lr, decay=lr/epochs, momentum=0.8, nesterov=True)\n",
        "model.compile(optimizer=sgd, loss='categorical_crossentropy', metrics=['accuracy'])\n",
        "sampleid = np.arange(output.shape[0])\n",
        "sampleid=sampleid+1\n",
        "#print(sampleid)\n",
        "matrix = np.ones((output.shape[0],output.shape[1]+1))\n",
        "matrix[:,0]=sampleid\n",
        "matrix[:,1:]=output\n",
        "classes = np.argmax(output,axis=1)\n",
        "classes = classes+1\n",
        "np.savetxt(\"submission.csv\", matrix,'%5.4f', delimiter=',', header=\"Sample_id,Class_1,Class_2,Class_3,Class_4,Class_5,Class_6,Class_7,Class_8,Class_9,Class_10\")\n",
        "matrix2 = np.ones((output.shape[0],2))\n",
        "matrix2[:,0]=sampleid\n",
        "matrix2[:,1]=classes\n",
        "np.savetxt(\"submission-class.csv\", matrix2,'%5.0f', delimiter=',', header=\"Sample_id,Sample_label\")\n",
        "\n"
      ],
      "outputs": [
        {
          "output_type": "stream",
          "name": "stdout",
          "text": [
            "6544/6544 [==============================] - 0s 60us/step\b\b\b\b\b\b\b\b\b\b\b\b\b\b\b\b\b\b\b\b\b\b\b\b\b\b\b\b\b\b\b\b\b\b\b\b\b\b\b\b\b\b\b\b\b\b\b\b\b\n"
          ]
        }
      ],
      "execution_count": 98,
      "metadata": {
        "collapsed": false,
        "outputHidden": false,
        "inputHidden": false
      }
    },
    {
      "cell_type": "markdown",
      "source": [
        "## 4. Results"
      ],
      "metadata": {}
    },
    {
      "cell_type": "markdown",
      "source": [
        "*Summarize the results of the experiments without discussing their implications.*\n",
        "\n",
        "*- Include both performance measures (accuracy and LogLoss).*\n",
        "\n",
        "*- How does it perform on kaggle compared to the train data.*\n",
        "\n",
        "*- Include a confusion matrix.*\n",
        "\n- See analysis in discussion/conclusion"
      ],
      "metadata": {}
    },
    {
      "cell_type": "code",
      "source": [
        "#Confusion matrix ...\n",
        "#model.summary()\n",
        "data,labels = load_data()\n",
        "output_train = model.predict(data, batch_size=None, verbose=1, steps=None)\n",
        "#print(output_train.shape)\n",
        "classes = np.argmax(output_train,axis=1)\n",
        "pred_labels = classes + 1\n",
        "cm = confusion_matrix(labels,pred_labels)\n",
        "cmpd = pd.DataFrame(cm,columns=[str(i+1) for i in range(10)], index=[str(i+1) for i in range(10)])\n",
        "print(\"Confusion matrix:\")\n",
        "display(HTML(cmpd.to_html()))\n",
        "print()\n",
        "print(\"K-fold models with loss and accuracy:\")\n",
        "resultsdf = pd.DataFrame(scores)\n",
        "resultsdf.columns=[\"Model\",\"Loss, Accuracy\"]\n",
        "display(HTML(resultsdf.to_html()))"
      ],
      "outputs": [
        {
          "output_type": "stream",
          "name": "stdout",
          "text": [
            "Matices loaded.\n",
            "21780/21780 [==============================] - 0s 20us/step\b\b\b\b\b\b\b\b\b\b\b\b\b\b\b\b\b\b\b\b\b\b\b\b\b\b\b\b\b\b\b\b\b\b\b\b\b\b\b\b\b\b\b\b\b\b\b\b\b\n",
            "Confusion matrix:\n"
          ]
        },
        {
          "output_type": "display_data",
          "data": {
            "text/plain": [
              "<IPython.core.display.HTML object>"
            ],
            "text/html": [
              "<table border=\"1\" class=\"dataframe\">\n",
              "  <thead>\n",
              "    <tr style=\"text-align: right;\">\n",
              "      <th></th>\n",
              "      <th>1</th>\n",
              "      <th>2</th>\n",
              "      <th>3</th>\n",
              "      <th>4</th>\n",
              "      <th>5</th>\n",
              "      <th>6</th>\n",
              "      <th>7</th>\n",
              "      <th>8</th>\n",
              "      <th>9</th>\n",
              "      <th>10</th>\n",
              "    </tr>\n",
              "  </thead>\n",
              "  <tbody>\n",
              "    <tr>\n",
              "      <th>1</th>\n",
              "      <td>1631</td>\n",
              "      <td>167</td>\n",
              "      <td>34</td>\n",
              "      <td>69</td>\n",
              "      <td>105</td>\n",
              "      <td>111</td>\n",
              "      <td>51</td>\n",
              "      <td>10</td>\n",
              "      <td>0</td>\n",
              "      <td>0</td>\n",
              "    </tr>\n",
              "    <tr>\n",
              "      <th>2</th>\n",
              "      <td>125</td>\n",
              "      <td>1920</td>\n",
              "      <td>43</td>\n",
              "      <td>37</td>\n",
              "      <td>21</td>\n",
              "      <td>19</td>\n",
              "      <td>11</td>\n",
              "      <td>1</td>\n",
              "      <td>1</td>\n",
              "      <td>0</td>\n",
              "    </tr>\n",
              "    <tr>\n",
              "      <th>3</th>\n",
              "      <td>16</td>\n",
              "      <td>21</td>\n",
              "      <td>2110</td>\n",
              "      <td>15</td>\n",
              "      <td>5</td>\n",
              "      <td>11</td>\n",
              "      <td>0</td>\n",
              "      <td>0</td>\n",
              "      <td>0</td>\n",
              "      <td>0</td>\n",
              "    </tr>\n",
              "    <tr>\n",
              "      <th>4</th>\n",
              "      <td>16</td>\n",
              "      <td>12</td>\n",
              "      <td>10</td>\n",
              "      <td>2113</td>\n",
              "      <td>8</td>\n",
              "      <td>18</td>\n",
              "      <td>0</td>\n",
              "      <td>1</td>\n",
              "      <td>0</td>\n",
              "      <td>0</td>\n",
              "    </tr>\n",
              "    <tr>\n",
              "      <th>5</th>\n",
              "      <td>103</td>\n",
              "      <td>22</td>\n",
              "      <td>12</td>\n",
              "      <td>46</td>\n",
              "      <td>1955</td>\n",
              "      <td>19</td>\n",
              "      <td>19</td>\n",
              "      <td>2</td>\n",
              "      <td>0</td>\n",
              "      <td>0</td>\n",
              "    </tr>\n",
              "    <tr>\n",
              "      <th>6</th>\n",
              "      <td>50</td>\n",
              "      <td>17</td>\n",
              "      <td>33</td>\n",
              "      <td>43</td>\n",
              "      <td>23</td>\n",
              "      <td>2009</td>\n",
              "      <td>3</td>\n",
              "      <td>0</td>\n",
              "      <td>0</td>\n",
              "      <td>0</td>\n",
              "    </tr>\n",
              "    <tr>\n",
              "      <th>7</th>\n",
              "      <td>57</td>\n",
              "      <td>34</td>\n",
              "      <td>13</td>\n",
              "      <td>20</td>\n",
              "      <td>47</td>\n",
              "      <td>23</td>\n",
              "      <td>1981</td>\n",
              "      <td>2</td>\n",
              "      <td>0</td>\n",
              "      <td>1</td>\n",
              "    </tr>\n",
              "    <tr>\n",
              "      <th>8</th>\n",
              "      <td>982</td>\n",
              "      <td>1</td>\n",
              "      <td>10</td>\n",
              "      <td>23</td>\n",
              "      <td>167</td>\n",
              "      <td>293</td>\n",
              "      <td>44</td>\n",
              "      <td>658</td>\n",
              "      <td>0</td>\n",
              "      <td>0</td>\n",
              "    </tr>\n",
              "    <tr>\n",
              "      <th>9</th>\n",
              "      <td>58</td>\n",
              "      <td>143</td>\n",
              "      <td>780</td>\n",
              "      <td>41</td>\n",
              "      <td>279</td>\n",
              "      <td>476</td>\n",
              "      <td>105</td>\n",
              "      <td>0</td>\n",
              "      <td>296</td>\n",
              "      <td>0</td>\n",
              "    </tr>\n",
              "    <tr>\n",
              "      <th>10</th>\n",
              "      <td>373</td>\n",
              "      <td>2</td>\n",
              "      <td>12</td>\n",
              "      <td>1251</td>\n",
              "      <td>189</td>\n",
              "      <td>127</td>\n",
              "      <td>83</td>\n",
              "      <td>15</td>\n",
              "      <td>0</td>\n",
              "      <td>126</td>\n",
              "    </tr>\n",
              "  </tbody>\n",
              "</table>"
            ]
          },
          "metadata": {}
        },
        {
          "output_type": "stream",
          "name": "stdout",
          "text": [
            "\n",
            "K-fold models with loss and accuracy:\n"
          ]
        },
        {
          "output_type": "display_data",
          "data": {
            "text/plain": [
              "<IPython.core.display.HTML object>"
            ],
            "text/html": [
              "<table border=\"1\" class=\"dataframe\">\n",
              "  <thead>\n",
              "    <tr style=\"text-align: right;\">\n",
              "      <th></th>\n",
              "      <th>Model</th>\n",
              "      <th>Loss, Accuracy</th>\n",
              "    </tr>\n",
              "  </thead>\n",
              "  <tbody>\n",
              "    <tr>\n",
              "      <th>0</th>\n",
              "      <td>1</td>\n",
              "      <td>[1.015345358247057, 0.6674311926605505]</td>\n",
              "    </tr>\n",
              "    <tr>\n",
              "      <th>1</th>\n",
              "      <td>2</td>\n",
              "      <td>[1.0115077757780706, 0.664908256880734]</td>\n",
              "    </tr>\n",
              "    <tr>\n",
              "      <th>2</th>\n",
              "      <td>3</td>\n",
              "      <td>[1.0442600248056815, 0.6662844036697247]</td>\n",
              "    </tr>\n",
              "    <tr>\n",
              "      <th>3</th>\n",
              "      <td>4</td>\n",
              "      <td>[0.9895972582937658, 0.6836781609315297]</td>\n",
              "    </tr>\n",
              "    <tr>\n",
              "      <th>4</th>\n",
              "      <td>5</td>\n",
              "      <td>[0.9942914174342977, 0.6719540229885057]</td>\n",
              "    </tr>\n",
              "  </tbody>\n",
              "</table>"
            ]
          },
          "metadata": {}
        }
      ],
      "execution_count": 92,
      "metadata": {
        "collapsed": true
      }
    },
    {
      "cell_type": "markdown",
      "source": [
        "Classes:\n",
        "\n",
        "1 'Pop_Rock'\n",
        "\n",
        "2 'Electronic'\n",
        "\n",
        "3 'Rap'\n",
        "\n",
        "4 'Jazz'\n",
        "\n",
        "5 'Latin'\n",
        "\n",
        "6 'RnB'\n",
        "\n",
        "7 'International'\n",
        "\n",
        "8 'Country'\n",
        "\n",
        "9 'Reggae'\n",
        "\n",
        "10 'Blues'\n",
        "\n"
      ],
      "metadata": {}
    },
    {
      "cell_type": "markdown",
      "source": [
        "## 5. Discussion/Conclusions"
      ],
      "metadata": {}
    },
    {
      "cell_type": "markdown",
      "source": [
        "*Interpret and explain your results *\n",
        "\n",
        "*- Discuss the relevance of the performance measures (accuracy and LogLoss) for\n",
        "imbalanced multiclass datasets. *\n",
        "\n",
        "*- How the results relate to the literature. *\n",
        "\n",
        "*- Suggestions for future research/improvement. *\n",
        "\n",
        "*- Did the study answer your questions? *\n",
        "\n",
        "- Reggae and Blues are completely mispredicted whereas others get relatively good results. My MLP has big trouble recognizing classes 9 and 10 as an unique genre. \n",
        "- On kaggle it performs very well in both the logloss and the accuracy. It will always perform one or two percentage points lower but that is normal as it is impossible to not overfit for a tiny bit. Though, overall it performs very stable and i chose to have one model for both kaggle challenges so I am very happy with the results. \n",
        "- I think the oversampling resulted in having a lower accuracy in the smaller classes. On the other hand it made sure that the model is very stable. I think it's a rather good trade-off. Also, the oversampling resulted in being able to train on many more samples (21k samples) as it generates samples for the smaller classes until they are as big as the biggest class. This is the reason why my MLP predicted the bigger classes very well and the smaller classes worse.\n",
        "- The PCA feature selection that i built in was absolutely useless. My biggest waste of time and effort so far in 2018. I hoped it to be useful for the model to be accurate with a smaller amount of nodes but it was not true. In the end, letting the MLP change the weights within the network and negating some features by itself was much more efficient and gave better results. \n",
        "- I think there was barely any improvement of adding the hidden layer. The logistic regression would have worked as well as the MLP with hidden layer. This will partially be the case since we are working with statistics of the actual data. I'm pretty sure that if we had the real data the MLP will work so much better.\n",
        "\n",
        "**Answer of the problem statement**: The MLP was with the current amount of preprocessing and fixed features selection performing slightly better than the logistic regression model. Though I've seen logistic regression models perform better than my MLP. Therefore the MLP net can make up for some preprocessing that I maybe didn't apply as well as the others did. That is a in a certain way a positive thing of the MLP as it is right now. On the other hand, in my opinion the result were not obvious enough to conclude that the MLP was able to find non linear relations in the data. \n",
        "\n**Future research:** The MLP might be able to find nonlinear relations if we had the actual data instead of the statistics. This is something to be research in the future. Also having more data would be beneficial for the MLP net.  "
      ],
      "metadata": {}
    },
    {
      "cell_type": "markdown",
      "source": [
        "## 6. References"
      ],
      "metadata": {}
    },
    {
      "cell_type": "markdown",
      "source": [
        "*List of all the references cited in the document*"
      ],
      "metadata": {}
    },
    {
      "cell_type": "markdown",
      "source": [
        "## Appendix\n",
        "*Any additional material needed to complete the report can be included here. For example, if you want to keep  additional source code, additional images or plots, mathematical derivations, etc. The content should be relevant to the report and should help explain or visualize something mentioned earlier. **You can remove the whole Appendix section if there is no need for it.** *"
      ],
      "metadata": {}
    },
    {
      "cell_type": "code",
      "source": [],
      "outputs": [],
      "execution_count": null,
      "metadata": {
        "collapsed": true
      }
    }
  ],
  "metadata": {
    "kernelspec": {
      "name": "python3",
      "language": "python",
      "display_name": "Python 3"
    },
    "language_info": {
      "name": "python",
      "version": "3.6.5",
      "mimetype": "text/x-python",
      "codemirror_mode": {
        "name": "ipython",
        "version": 3
      },
      "pygments_lexer": "ipython3",
      "nbconvert_exporter": "python",
      "file_extension": ".py"
    },
    "kernel_info": {
      "name": "python3"
    },
    "nteract": {
      "version": "0.12.1"
    }
  },
  "nbformat": 4,
  "nbformat_minor": 2
}